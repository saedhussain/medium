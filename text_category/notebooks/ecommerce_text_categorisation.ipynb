{
 "cells": [
  {
   "cell_type": "markdown",
   "id": "0fdcf5b0",
   "metadata": {},
   "source": [
    "# Categorisation Ecommerce Text: Using Transfer learning (pre-trained model + classification model) "
   ]
  },
  {
   "cell_type": "markdown",
   "id": "54eb5741",
   "metadata": {},
   "source": [
    "## Load data and tidy up"
   ]
  },
  {
   "cell_type": "markdown",
   "id": "481b1637",
   "metadata": {},
   "source": [
    "Dataset taken from: https://www.kaggle.com/datasets/saurabhshahane/ecommerce-text-classification"
   ]
  },
  {
   "cell_type": "code",
   "execution_count": 1,
   "id": "0ab96cd0",
   "metadata": {},
   "outputs": [],
   "source": [
    "import pandas as pd\n",
    "import numpy as np\n",
    "pd.set_option('display.max_rows', None)"
   ]
  },
  {
   "cell_type": "code",
   "execution_count": 5,
   "id": "25034a14",
   "metadata": {},
   "outputs": [],
   "source": [
    "# Define the file path\n",
    "data_path = \"../data/ecommerceDataset.csv\"\n",
    "\n",
    "# Load the Excel file into a Pandas dataframe\n",
    "data_df = pd.read_csv(data_path,header=None)"
   ]
  },
  {
   "cell_type": "code",
   "execution_count": 6,
   "id": "673e63f1",
   "metadata": {},
   "outputs": [
    {
     "data": {
      "text/html": [
       "<div>\n",
       "<style scoped>\n",
       "    .dataframe tbody tr th:only-of-type {\n",
       "        vertical-align: middle;\n",
       "    }\n",
       "\n",
       "    .dataframe tbody tr th {\n",
       "        vertical-align: top;\n",
       "    }\n",
       "\n",
       "    .dataframe thead th {\n",
       "        text-align: right;\n",
       "    }\n",
       "</style>\n",
       "<table border=\"1\" class=\"dataframe\">\n",
       "  <thead>\n",
       "    <tr style=\"text-align: right;\">\n",
       "      <th></th>\n",
       "      <th>0</th>\n",
       "      <th>1</th>\n",
       "    </tr>\n",
       "  </thead>\n",
       "  <tbody>\n",
       "    <tr>\n",
       "      <th>0</th>\n",
       "      <td>Household</td>\n",
       "      <td>Paper Plane Design Framed Wall Hanging Motivat...</td>\n",
       "    </tr>\n",
       "    <tr>\n",
       "      <th>1</th>\n",
       "      <td>Household</td>\n",
       "      <td>SAF 'Floral' Framed Painting (Wood, 30 inch x ...</td>\n",
       "    </tr>\n",
       "    <tr>\n",
       "      <th>2</th>\n",
       "      <td>Household</td>\n",
       "      <td>SAF 'UV Textured Modern Art Print Framed' Pain...</td>\n",
       "    </tr>\n",
       "    <tr>\n",
       "      <th>3</th>\n",
       "      <td>Household</td>\n",
       "      <td>SAF Flower Print Framed Painting (Synthetic, 1...</td>\n",
       "    </tr>\n",
       "    <tr>\n",
       "      <th>4</th>\n",
       "      <td>Household</td>\n",
       "      <td>Incredible Gifts India Wooden Happy Birthday U...</td>\n",
       "    </tr>\n",
       "  </tbody>\n",
       "</table>\n",
       "</div>"
      ],
      "text/plain": [
       "           0                                                  1\n",
       "0  Household  Paper Plane Design Framed Wall Hanging Motivat...\n",
       "1  Household  SAF 'Floral' Framed Painting (Wood, 30 inch x ...\n",
       "2  Household  SAF 'UV Textured Modern Art Print Framed' Pain...\n",
       "3  Household  SAF Flower Print Framed Painting (Synthetic, 1...\n",
       "4  Household  Incredible Gifts India Wooden Happy Birthday U..."
      ]
     },
     "execution_count": 6,
     "metadata": {},
     "output_type": "execute_result"
    }
   ],
   "source": [
    "data_df.head()"
   ]
  },
  {
   "cell_type": "code",
   "execution_count": 8,
   "id": "c8d98894",
   "metadata": {},
   "outputs": [
    {
     "data": {
      "text/html": [
       "<div>\n",
       "<style scoped>\n",
       "    .dataframe tbody tr th:only-of-type {\n",
       "        vertical-align: middle;\n",
       "    }\n",
       "\n",
       "    .dataframe tbody tr th {\n",
       "        vertical-align: top;\n",
       "    }\n",
       "\n",
       "    .dataframe thead th {\n",
       "        text-align: right;\n",
       "    }\n",
       "</style>\n",
       "<table border=\"1\" class=\"dataframe\">\n",
       "  <thead>\n",
       "    <tr style=\"text-align: right;\">\n",
       "      <th></th>\n",
       "      <th>category</th>\n",
       "      <th>product_description</th>\n",
       "    </tr>\n",
       "  </thead>\n",
       "  <tbody>\n",
       "    <tr>\n",
       "      <th>0</th>\n",
       "      <td>Household</td>\n",
       "      <td>Paper Plane Design Framed Wall Hanging Motivat...</td>\n",
       "    </tr>\n",
       "    <tr>\n",
       "      <th>1</th>\n",
       "      <td>Household</td>\n",
       "      <td>SAF 'Floral' Framed Painting (Wood, 30 inch x ...</td>\n",
       "    </tr>\n",
       "    <tr>\n",
       "      <th>2</th>\n",
       "      <td>Household</td>\n",
       "      <td>SAF 'UV Textured Modern Art Print Framed' Pain...</td>\n",
       "    </tr>\n",
       "    <tr>\n",
       "      <th>3</th>\n",
       "      <td>Household</td>\n",
       "      <td>SAF Flower Print Framed Painting (Synthetic, 1...</td>\n",
       "    </tr>\n",
       "    <tr>\n",
       "      <th>4</th>\n",
       "      <td>Household</td>\n",
       "      <td>Incredible Gifts India Wooden Happy Birthday U...</td>\n",
       "    </tr>\n",
       "  </tbody>\n",
       "</table>\n",
       "</div>"
      ],
      "text/plain": [
       "    category                                product_description\n",
       "0  Household  Paper Plane Design Framed Wall Hanging Motivat...\n",
       "1  Household  SAF 'Floral' Framed Painting (Wood, 30 inch x ...\n",
       "2  Household  SAF 'UV Textured Modern Art Print Framed' Pain...\n",
       "3  Household  SAF Flower Print Framed Painting (Synthetic, 1...\n",
       "4  Household  Incredible Gifts India Wooden Happy Birthday U..."
      ]
     },
     "execution_count": 8,
     "metadata": {},
     "output_type": "execute_result"
    }
   ],
   "source": [
    "# Rename the columns\n",
    "data_df = data_df.rename(columns={0: 'category', 1: 'product_description'})\n",
    "data_df.head()"
   ]
  },
  {
   "cell_type": "code",
   "execution_count": 27,
   "id": "3de9a59f",
   "metadata": {},
   "outputs": [
    {
     "data": {
      "text/plain": [
       "category               object\n",
       "product_description    object\n",
       "dtype: object"
      ]
     },
     "execution_count": 27,
     "metadata": {},
     "output_type": "execute_result"
    }
   ],
   "source": [
    "data_df.dtypes"
   ]
  },
  {
   "cell_type": "code",
   "execution_count": 9,
   "id": "f2ac930c",
   "metadata": {},
   "outputs": [
    {
     "data": {
      "text/plain": [
       "4"
      ]
     },
     "execution_count": 9,
     "metadata": {},
     "output_type": "execute_result"
    }
   ],
   "source": [
    "# Check the number of categories is 4 as stated on Kaggle\n",
    "data_df.category.nunique()"
   ]
  },
  {
   "cell_type": "code",
   "execution_count": 11,
   "id": "f601e277",
   "metadata": {},
   "outputs": [
    {
     "data": {
      "text/plain": [
       "array(['Household', 'Books', 'Clothing & Accessories', 'Electronics'],\n",
       "      dtype=object)"
      ]
     },
     "execution_count": 11,
     "metadata": {},
     "output_type": "execute_result"
    }
   ],
   "source": [
    "# List the categories\n",
    "data_df.category.unique()"
   ]
  },
  {
   "cell_type": "code",
   "execution_count": 12,
   "id": "dccf09ec",
   "metadata": {},
   "outputs": [
    {
     "data": {
      "text/plain": [
       "(50425, 2)"
      ]
     },
     "execution_count": 12,
     "metadata": {},
     "output_type": "execute_result"
    }
   ],
   "source": [
    "# How many data points\n",
    "data_df.shape"
   ]
  },
  {
   "cell_type": "code",
   "execution_count": 46,
   "id": "d4437f9c",
   "metadata": {},
   "outputs": [],
   "source": [
    "from sklearn.model_selection import train_test_split\n",
    "\n",
    "# split the data into train and test sets while ensuring a proportional distribution of categories\n",
    "train_set, test_set = train_test_split(data_df, test_size=0.5, stratify=data_df['category'], random_state=42)\n",
    "\n",
    "# use only a subset of the training set to speed up the training\n",
    "train_set = train_set.sample(n=2000, random_state=42)\n",
    "test_set = test_set.sample(n=2000, random_state=42)\n"
   ]
  },
  {
   "cell_type": "code",
   "execution_count": 47,
   "id": "9bf92d7c",
   "metadata": {},
   "outputs": [
    {
     "data": {
      "text/plain": [
       "(2000, 2)"
      ]
     },
     "execution_count": 47,
     "metadata": {},
     "output_type": "execute_result"
    }
   ],
   "source": [
    "train_set.shape"
   ]
  },
  {
   "cell_type": "code",
   "execution_count": 48,
   "id": "ef0ac398",
   "metadata": {},
   "outputs": [
    {
     "data": {
      "text/plain": [
       "(2000, 2)"
      ]
     },
     "execution_count": 48,
     "metadata": {},
     "output_type": "execute_result"
    }
   ],
   "source": [
    "test_set.shape"
   ]
  },
  {
   "cell_type": "markdown",
   "id": "13f4000b",
   "metadata": {},
   "source": [
    "## Clean Data"
   ]
  },
  {
   "cell_type": "code",
   "execution_count": 49,
   "id": "946a2b09",
   "metadata": {},
   "outputs": [],
   "source": [
    "import re\n",
    "\n",
    "pattern = r\"(?:\\b\\w+\\b|['\\\"“”‘’])\"\n",
    "url_pattern = re.compile(r'http\\S+|www\\S+')\n",
    "punct_pattern = re.compile(r'[^\\w\\s]')\n",
    "digit_pattern = re.compile(r'\\d+')\n",
    "non_ascii_pattern = re.compile(r'[^\\x00-\\x7F]+')\n",
    "\n",
    "def clean_text(text):\n",
    "    \n",
    "    # Ensure string type (just in case)\n",
    "    text = str(text)\n",
    "    \n",
    "    # Convert to lowercase\n",
    "    text = text.lower()\n",
    "    \n",
    "    # Remove URLs\n",
    "    text = url_pattern.sub('', text)\n",
    "    \n",
    "    # Remove punctuation\n",
    "    text = punct_pattern.sub(' ', text)\n",
    "    \n",
    "    # Remove digits\n",
    "    text = digit_pattern.sub('', text)\n",
    "    \n",
    "    # Remove non-ASCII characters\n",
    "    text = non_ascii_pattern.sub('', text)   \n",
    "    \n",
    "    # Tokenize words and remove single characters\n",
    "    words = [word for word in re.findall(pattern, text) if len(word) > 1]\n",
    "    return ' '.join(words)"
   ]
  },
  {
   "cell_type": "code",
   "execution_count": 50,
   "id": "5ca66fbe",
   "metadata": {},
   "outputs": [
    {
     "name": "stdout",
     "output_type": "stream",
     "text": [
      "this is an example text with url some hashtag\n"
     ]
    }
   ],
   "source": [
    "text = \"This is an example text with a URL https://www.example.com, some #hashtag.\"\n",
    "cleaned_text = clean_text(text)\n",
    "print(cleaned_text)"
   ]
  },
  {
   "cell_type": "code",
   "execution_count": 51,
   "id": "751aa2c8",
   "metadata": {},
   "outputs": [],
   "source": [
    "# Apply it both train and test dataset\n",
    "train_set[\"clean_desc\"] = train_set[\"product_description\"].apply(lambda x: clean_text(x))\n",
    "test_set[\"clean_desc\"] = test_set[\"product_description\"].apply(lambda x: clean_text(x))"
   ]
  },
  {
   "cell_type": "markdown",
   "id": "b4dcf4c9",
   "metadata": {},
   "source": [
    "## Use Pre-Trained Transformers to get embeddings"
   ]
  },
  {
   "cell_type": "code",
   "execution_count": 52,
   "id": "c1043a33",
   "metadata": {},
   "outputs": [],
   "source": [
    "from sentence_transformers import SentenceTransformer\n",
    "\n",
    "# Load SentenceTransformer model\n",
    "model = SentenceTransformer('paraphrase-mpnet-base-v2')"
   ]
  },
  {
   "cell_type": "code",
   "execution_count": 53,
   "id": "64b7275f",
   "metadata": {},
   "outputs": [],
   "source": [
    "# example encoding:\n",
    "sentence = ['This is a sample sentence for encoding.']\n",
    "embedding = model.encode(sentence)"
   ]
  },
  {
   "cell_type": "code",
   "execution_count": 54,
   "id": "bdee4354",
   "metadata": {},
   "outputs": [
    {
     "name": "stdout",
     "output_type": "stream",
     "text": [
      "[[ 4.99693975e-02 -1.26025528e-01 -9.15094614e-02  1.19477045e-02\n",
      "   9.89145786e-02  9.02947485e-02  1.74566925e-01  1.84450839e-02\n",
      "  -1.04984418e-01  9.41362581e-04  2.15029195e-01 -2.24005133e-02\n",
      "  -5.11866026e-02 -7.63527304e-02  2.01650299e-02 -1.40251443e-01\n",
      "   7.42609948e-02 -1.23938002e-01  8.18222240e-02  1.42685948e-02\n",
      "   6.02980256e-02 -1.12931551e-02  2.31014867e-03 -3.89685109e-02\n",
      "  -1.72300726e-01  8.78935121e-03  8.23219214e-03 -2.21334491e-02\n",
      "   1.09611750e-01  1.55119881e-01  4.06741947e-02  5.67847863e-02\n",
      "  -3.65059003e-02 -2.21612006e-01  1.61704160e-02 -1.37415916e-01\n",
      "   1.55395195e-02 -3.26561332e-02 -3.26523185e-01  9.87549722e-02\n",
      "  -8.87650102e-02  6.88517168e-02 -4.42437492e-02  1.34186819e-02\n",
      "  -9.72367451e-02  1.23327538e-01  3.90452951e-01 -1.41173169e-01\n",
      "  -1.36965215e-01  7.42332786e-02 -9.65975672e-02  1.11825109e-01\n",
      "  -2.45796114e-01  6.72860593e-02  1.88730732e-01  1.16232140e-02\n",
      "  -4.27793786e-02 -5.41380756e-02  7.80701414e-02  1.07632458e-01\n",
      "   2.51457337e-02 -3.13592479e-02  1.57449454e-01 -4.80527524e-03\n",
      "  -1.45915359e-01  1.22767575e-02 -1.55004887e-02 -6.77585090e-03\n",
      "  -1.40655294e-01 -6.56137150e-03  3.19055229e-01  3.59694734e-02\n",
      "  -4.38427851e-02 -1.90499164e-02  1.81980319e-02  9.21977032e-03\n",
      "   9.10974592e-02  4.34632227e-02 -5.19008823e-02  3.39175127e-02\n",
      "   4.33710366e-02  1.12658486e-01 -2.29645725e-02 -4.37301472e-02\n",
      "  -2.18080446e-01  2.77958095e-01 -1.95621457e-02  4.89704777e-03\n",
      "  -1.02839187e-01 -2.93875523e-02  5.13758659e-02 -6.14695065e-02\n",
      "   8.52406248e-02 -1.17508769e-01  1.99172329e-02  4.82768640e-02\n",
      "  -1.36691660e-01 -1.71640962e-01  2.02446416e-01 -6.42660707e-02\n",
      "   5.06501198e-02 -3.82905267e-02 -1.04417279e-02  1.03362992e-01\n",
      "   1.73387498e-01 -1.89399235e-02  1.02137104e-01  1.09116435e-01\n",
      "  -2.60970592e-01  1.08484052e-01  8.47548395e-02 -6.44845217e-02\n",
      "  -1.91055506e-01  5.13734147e-02 -1.60746783e-01  7.77532253e-03\n",
      "   6.21756986e-02  7.16081709e-02 -4.09739986e-02 -2.15317495e-02\n",
      "   2.65705194e-02 -1.12817682e-01 -1.68408647e-01  2.65128464e-02\n",
      "   5.26158325e-02 -4.03847769e-02 -2.80587941e-01  1.31149650e-01\n",
      "   7.78227895e-02 -2.22149208e-01 -6.56049997e-02 -8.95734280e-02\n",
      "   4.23911437e-02 -7.32489824e-02 -9.78047624e-02  7.57518932e-02\n",
      "   1.13057815e-01 -5.41383401e-02  2.05478102e-01 -2.67297681e-02\n",
      "  -4.12610583e-02 -3.69955339e-02 -3.51094231e-02 -2.77933896e-01\n",
      "   1.11991167e-01  1.16294049e-01 -9.98040661e-02  9.73626040e-03\n",
      "  -3.65074053e-02  7.03679249e-02  4.56948057e-02  1.41322494e-01\n",
      "  -2.19637588e-01 -6.64131436e-03 -2.37785012e-01 -3.51438895e-02\n",
      "   2.40648776e-01  1.01819456e-01  1.21435188e-01  3.67832743e-02\n",
      "   8.79953802e-02  2.03347113e-02 -4.60756849e-03  7.60108978e-02\n",
      "  -9.12430733e-02  1.28858894e-01 -2.57985830e-01 -7.57509694e-02\n",
      "   1.06683470e-01 -1.52600452e-01  8.98976438e-03  1.49068326e-01\n",
      "  -1.00813825e-02  2.07942173e-01  6.75311461e-02  2.89060503e-01\n",
      "  -3.58187109e-02 -2.21908353e-02 -1.99653618e-02  7.18650371e-02\n",
      "  -7.37122167e-03  2.13001966e-01  6.71024173e-02  1.41978905e-01\n",
      "   1.96785871e-02  9.16678682e-02 -1.13803968e-01  2.16784522e-01\n",
      "  -3.51635851e-02 -1.59369931e-02  6.36855215e-02  1.80609822e-02\n",
      "  -2.47338936e-02  1.32872105e-01 -1.04975782e-01 -5.22314422e-02\n",
      "  -1.79225318e-02  2.07549214e-01  3.84398699e-02 -1.57545298e-01\n",
      "   6.60288939e-03 -6.72324151e-02  1.04298808e-01  9.96907875e-02\n",
      "  -8.53810683e-02 -5.63262217e-02  1.81883603e-01 -7.54934624e-02\n",
      "   2.57517308e-01  1.23746559e-01  1.49758130e-01  1.10824751e-02\n",
      "  -3.35485339e-02  3.54651585e-02  1.21844728e-02  1.65934712e-01\n",
      "   7.69251958e-02  5.63814351e-03 -1.07165918e-01 -2.36015413e-02\n",
      "  -6.62925318e-02  9.64158773e-02  3.91244031e-02 -1.43798832e-02\n",
      "  -1.64194345e-01 -4.57735136e-02 -7.79678673e-02 -1.42905312e-02\n",
      "  -1.32715655e-02 -1.99979581e-02 -1.12872280e-01  3.19875255e-02\n",
      "   7.47494549e-02  6.99627772e-02 -1.57712460e-01  1.70967489e-01\n",
      "  -1.45853579e-01 -3.98777485e-01  1.00907125e-01 -3.08567703e-01\n",
      "   1.02930870e-02 -2.36655444e-01 -8.23340192e-02  1.01310991e-01\n",
      "   1.43249985e-02 -7.70966262e-02  3.23900878e-01 -2.04465583e-01\n",
      "   5.45502119e-02 -5.19618206e-02  7.00669363e-02 -3.73979332e-03\n",
      "  -2.83070654e-02 -5.22054508e-02  1.22123681e-01 -1.06334783e-01\n",
      "  -5.87433688e-02 -2.79671010e-02  1.37285739e-01  6.39097616e-02\n",
      "   2.33347133e-01 -4.60805893e-02  1.55952815e-02 -1.34043591e-02\n",
      "   8.56590718e-02 -6.27460852e-02  7.60507286e-02 -1.58394188e-01\n",
      "  -4.25870046e-02  4.63479832e-02  9.71682183e-03 -6.01082444e-02\n",
      "  -3.32510918e-02 -1.08796079e-02  5.35458252e-02 -3.77588458e-02\n",
      "  -3.66553813e-02 -1.17600299e-01 -1.01338908e-01  3.51045094e-03\n",
      "  -2.58835498e-02 -1.83369771e-01 -1.17971934e-02 -1.32778706e-02\n",
      "  -8.42604414e-02  6.88892975e-02 -1.81977540e-01 -2.47966260e-01\n",
      "  -2.53227241e-02  7.05687404e-02  9.86901671e-02  1.44620538e-02\n",
      "  -1.05577651e-02 -2.10793182e-01  6.33827969e-02 -1.26377076e-01\n",
      "   1.36637717e-01 -7.96890482e-02 -7.10274884e-03 -1.90986618e-02\n",
      "   1.14165992e-02 -4.22620475e-02 -4.62216400e-02  3.17872763e-02\n",
      "  -6.47002682e-02  9.96217951e-02  1.06144272e-01 -2.72136807e-01\n",
      "  -1.04746662e-01  1.90188661e-01  1.64586753e-01  7.68607035e-02\n",
      "  -1.19810440e-01  1.94552228e-01  6.56068549e-02 -1.43349450e-02\n",
      "  -7.90126651e-05 -1.32676303e-01 -1.08164355e-01  1.95916414e-01\n",
      "  -1.35008171e-02  1.46588460e-02  9.28012431e-02 -1.54435217e-01\n",
      "  -5.01095839e-02  1.97776526e-01 -1.59300528e-02 -1.28007233e-02\n",
      "   5.10752425e-02  9.44415927e-02 -9.01744142e-03 -9.78042707e-02\n",
      "   3.11408732e-02 -2.95926519e-02 -6.40281588e-02 -4.09885217e-03\n",
      "  -7.43754283e-02  8.48767012e-02 -1.40663490e-01  1.15632594e-01\n",
      "   4.74854372e-02 -2.46048808e-01 -2.40909792e-02 -1.97636113e-01\n",
      "   4.88827452e-02  5.23711033e-02  1.39816418e-01  7.31630856e-03\n",
      "  -5.82662690e-03  9.02644731e-03  2.29664538e-02 -9.37026665e-02\n",
      "  -1.68185998e-02 -1.07306883e-01 -1.01898156e-01  3.69600998e-03\n",
      "   1.67224556e-01  1.40094832e-01  4.91323061e-02 -1.46775514e-01\n",
      "   1.85623124e-01  6.50329813e-02 -1.80050418e-01  3.02010357e-01\n",
      "  -6.90222010e-02  3.18215862e-02  2.19450635e-03  4.57410526e-04\n",
      "  -5.35181873e-02  1.33390158e-01  1.74404085e-01  7.48880059e-02\n",
      "  -6.74284548e-02  9.88507643e-02  2.15284638e-02  1.01943634e-01\n",
      "   1.44717783e-01 -8.24670345e-02 -1.94129363e-01  1.09710300e-03\n",
      "   1.22828819e-01 -3.13621163e-01  1.95206687e-01 -4.60518058e-03\n",
      "  -1.39739767e-01 -1.26877785e-01 -5.49649913e-03 -8.86171907e-02\n",
      "  -6.48193136e-02  7.24219382e-02 -1.66737046e-02 -2.58667141e-01\n",
      "  -6.61160946e-02 -4.98758331e-02  7.74820223e-02  1.55838475e-01\n",
      "  -2.57442649e-02  6.93950579e-02 -4.12801243e-02  7.99734443e-02\n",
      "   1.24236628e-01  1.73538148e-01  2.26812810e-03 -3.30733210e-02\n",
      "  -2.82569136e-02  3.51452589e-01 -3.18177901e-02 -2.24339776e-02\n",
      "  -1.45664260e-01  1.31215528e-02  4.69530895e-02 -2.30385333e-01\n",
      "  -3.57530527e-02  3.57985310e-02  1.96961716e-01  1.78800434e-01\n",
      "   5.48470672e-03 -1.49683803e-01 -5.75089641e-03 -3.43122408e-02\n",
      "  -1.12390876e-01 -3.30593511e-02  2.78151985e-02 -1.04364902e-02\n",
      "   3.21625359e-02 -3.52658257e-02 -5.87911978e-02  1.58881228e-02\n",
      "   2.23674685e-01  5.06148860e-02  7.04852864e-02 -9.62566957e-02\n",
      "  -5.97084453e-03 -2.14190930e-01 -2.87231743e-01 -1.96251236e-02\n",
      "   6.19194694e-02 -8.22116882e-02 -1.45369116e-02 -1.09127209e-01\n",
      "  -5.19983247e-02  1.85807377e-01  4.18835312e-01 -3.41697894e-02\n",
      "  -2.06935639e-03  7.20451027e-02 -1.30121469e-01 -1.03114747e-01\n",
      "  -2.00824529e-01  4.42638434e-02  1.19696543e-01 -7.44850840e-03\n",
      "  -1.92848407e-02  4.02396172e-02 -3.36753353e-02  8.30084756e-02\n",
      "  -1.64688945e-01 -3.02863657e-01 -1.23933278e-01  2.69440681e-01\n",
      "  -5.03617637e-02  5.75864434e-01 -7.13862106e-02  4.03927453e-03\n",
      "  -8.69424790e-02  1.34109959e-01  1.07675813e-01  1.32894263e-01\n",
      "   2.70399116e-02  8.66768733e-02 -1.75118402e-01  1.66406371e-02\n",
      "   1.03946123e-03  1.15524873e-01  8.16133395e-02 -5.00634909e-02\n",
      "  -6.11327104e-02 -4.19167221e-01 -1.40370533e-01  6.74729645e-02\n",
      "  -5.81537709e-02 -2.69056827e-01 -3.00985985e-02 -6.16548434e-02\n",
      "   2.42093317e-02  4.54636328e-02 -6.59368262e-02  1.89604573e-02\n",
      "  -9.53365415e-02 -1.46001607e-01  1.41050024e-02  4.13673148e-02\n",
      "   5.07355109e-02 -8.78564257e-04 -2.37729236e-01  2.80511118e-02\n",
      "   4.72227111e-02  2.83401646e-02 -2.13225812e-01  1.01760313e-01\n",
      "   4.93086688e-02  3.63896228e-02  5.40037528e-02  1.24487855e-01\n",
      "   2.97096912e-02  9.27303657e-02  3.87954265e-02  1.73904210e-01\n",
      "   6.88327998e-02  1.33437008e-01  4.25412431e-02  7.51674175e-02\n",
      "  -7.92323574e-02  2.44516179e-01 -1.18719295e-01  3.74045260e-02\n",
      "  -1.70969918e-01 -1.54386654e-01  1.09520257e-01  1.20935300e-02\n",
      "   6.29755482e-02 -3.31560187e-02  4.47276495e-02  7.02465624e-02\n",
      "  -9.17071127e-04  6.46279752e-03  5.80772534e-02 -5.34020662e-02\n",
      "  -1.22879423e-01  1.05721995e-01 -3.57127795e-03  5.47487438e-02\n",
      "  -2.65140772e-01  1.33459372e-02 -2.00924724e-02  3.88520062e-02\n",
      "  -1.38522238e-01 -8.26394111e-02 -1.76948048e-02 -2.96221286e-01\n",
      "  -1.66044995e-01 -1.00756444e-01 -2.13778578e-02  1.63573921e-01\n",
      "   1.26010627e-01  4.02325019e-02  3.91073748e-02 -1.71585754e-03\n",
      "   4.87104878e-02 -1.62440374e-01 -3.19317989e-02  1.34518370e-01\n",
      "   2.80953646e-01  3.68427113e-02  4.34643552e-02 -1.48780227e-01\n",
      "  -1.43147781e-01 -6.46409541e-02  8.27538446e-02  8.21455792e-02\n",
      "   1.40228868e-01 -5.54105826e-02 -6.45412803e-02  1.72738925e-01\n",
      "  -1.11285066e-02 -3.92740741e-02 -2.43139453e-02  6.43436834e-02\n",
      "   1.79153726e-01  6.96984380e-02 -1.09843593e-02  6.85892552e-02\n",
      "   5.32050207e-02 -5.14593348e-03 -2.68449821e-02 -3.06502767e-02\n",
      "   1.79771688e-02 -1.32823378e-01  1.07385620e-01 -7.28033930e-02\n",
      "   9.37599838e-02 -3.08169127e-02  6.32213205e-02 -1.45136431e-01\n",
      "  -1.35946320e-02 -5.26451394e-02  9.41718966e-02  4.67632599e-02\n",
      "   6.15348015e-03 -2.86361687e-02  7.32229799e-02  1.09334007e-01\n",
      "  -1.80119346e-03 -1.32296100e-01 -4.63159457e-02 -4.88270856e-02\n",
      "  -1.07609786e-01 -1.06408939e-01  1.34475548e-02 -6.39492795e-02\n",
      "   1.91131476e-02  6.45288732e-03 -2.54234835e-03  7.55271912e-02\n",
      "  -5.54336235e-02 -1.61505505e-01 -5.63540086e-02 -6.64627329e-02\n",
      "   5.71729615e-02  2.14860350e-01 -6.96785972e-02  3.49437594e-02\n",
      "  -5.31080477e-02 -6.84674457e-02  2.50477821e-01  9.29128453e-02\n",
      "   3.72430176e-01  1.04788139e-01  1.17906723e-02 -1.88100368e-01\n",
      "  -6.00949116e-02 -9.01894942e-02  6.58182334e-03 -4.11842775e-04\n",
      "   7.27012977e-02 -1.77766718e-02  1.28841206e-01  1.09823093e-01\n",
      "  -4.74694408e-02  4.61714923e-01  4.28044349e-02 -4.23171818e-02\n",
      "   8.55486989e-02  1.16293646e-01  2.31800348e-01  4.35635671e-02\n",
      "   9.13370997e-02 -3.41812707e-02 -4.64249514e-02 -1.22642256e-01\n",
      "  -8.95163193e-02 -5.05799055e-02  1.34883747e-02 -1.14779666e-01\n",
      "  -2.01825574e-02 -6.69678301e-02 -1.51441425e-01 -7.62554491e-03\n",
      "   2.58017033e-02  1.10576618e-02  2.58742459e-02  1.65939927e-01\n",
      "  -1.60510033e-01  4.44870107e-02 -4.77147251e-02  3.03873979e-02\n",
      "  -1.62790433e-01 -6.99878111e-02  2.18564436e-01 -3.48402013e-04\n",
      "   7.95835629e-03  5.35952225e-02  1.27777815e-01 -1.09155633e-01\n",
      "  -1.32134572e-01 -9.80800167e-02 -9.33615342e-02 -5.63219786e-02\n",
      "  -4.10346761e-02 -4.00961637e-02  6.44494519e-02 -1.90847437e-03\n",
      "  -1.70135610e-02 -2.15277225e-01  4.03914638e-02 -2.96959162e-01\n",
      "  -6.85890019e-02  1.45925149e-01 -7.83903003e-02  7.70479739e-02\n",
      "  -5.41553609e-02  1.62577964e-02 -5.79153821e-02  2.50093997e-01\n",
      "   2.31416702e-01 -1.68981239e-01 -3.62915024e-02  1.20244265e-01\n",
      "   2.95966752e-02  7.43156523e-02  1.27324268e-01  5.85027877e-03\n",
      "   1.43263236e-01 -1.95239075e-02 -1.07118070e-01 -5.38929328e-02\n",
      "  -1.84982494e-02  1.29789095e-02 -2.36020088e-01  1.27783746e-01\n",
      "   2.96400543e-02 -1.17768586e-01  7.98305348e-02 -9.11540836e-02\n",
      "   2.09628850e-01  1.19767534e-02 -4.09611985e-02  3.39139216e-02\n",
      "  -5.31231575e-02  1.53096274e-01  1.09762095e-01  5.29390462e-02\n",
      "  -7.22267106e-02 -3.46386656e-02 -8.91404599e-02 -2.76230164e-02\n",
      "  -1.93496078e-01  1.43833812e-02 -2.45617982e-02 -2.99056888e-01\n",
      "  -2.21066754e-02 -2.81050466e-02  3.03429008e-01  1.44315641e-02\n",
      "   6.76548034e-02  8.93010870e-02  1.35254189e-01  5.60536608e-02\n",
      "   4.28675711e-02  7.44176134e-02 -2.64194105e-02  2.29975469e-02\n",
      "   1.85476452e-01  8.37365538e-02  8.34777504e-02  2.33406186e-01\n",
      "   1.46772817e-01 -1.54053897e-01  3.04509662e-02  2.96914279e-02\n",
      "   2.76970025e-02  1.27779394e-01  5.36336489e-02  3.91805433e-02\n",
      "  -1.34965628e-01 -1.51831433e-02 -4.87257689e-02 -1.04615569e-01\n",
      "   4.14564162e-02 -4.84376848e-02 -8.12284499e-02 -4.07112911e-02\n",
      "   6.33521527e-02 -8.41843560e-02 -4.10793602e-01 -2.34297514e-02\n",
      "   1.97858550e-02 -4.79183272e-02  1.43217802e-01  1.02729283e-01\n",
      "   2.11901233e-01  5.99102154e-02 -5.84040210e-02  1.09752715e-01\n",
      "   1.23074949e-01  8.46698135e-02  8.69197398e-03 -1.48386151e-01]]\n"
     ]
    }
   ],
   "source": [
    "print(embedding)"
   ]
  },
  {
   "cell_type": "code",
   "execution_count": 55,
   "id": "d4e90a30",
   "metadata": {},
   "outputs": [],
   "source": [
    "# Generate embeddings for the training data\n",
    "train_desc = train_set['clean_desc'].tolist()\n",
    "train_embeddings = model.encode(train_desc)\n",
    "X_train = np.array(train_embeddings)"
   ]
  },
  {
   "cell_type": "markdown",
   "id": "38c74d36",
   "metadata": {},
   "source": [
    "## Train the Classifier Model"
   ]
  },
  {
   "cell_type": "code",
   "execution_count": 56,
   "id": "e99bc96a",
   "metadata": {},
   "outputs": [],
   "source": [
    "from sklearn.model_selection import train_test_split,GridSearchCV\n",
    "from sklearn.preprocessing import LabelEncoder\n",
    "import xgboost as xgb"
   ]
  },
  {
   "cell_type": "code",
   "execution_count": 57,
   "id": "0549b9e5",
   "metadata": {},
   "outputs": [],
   "source": [
    "# Encode the target variable as categorical with one-hot encoding\n",
    "le = LabelEncoder()\n",
    "y_train = le.fit_transform(train_set['category'])"
   ]
  },
  {
   "cell_type": "code",
   "execution_count": 60,
   "id": "de52991c",
   "metadata": {},
   "outputs": [
    {
     "data": {
      "text/html": [
       "<style>#sk-container-id-2 {color: black;background-color: white;}#sk-container-id-2 pre{padding: 0;}#sk-container-id-2 div.sk-toggleable {background-color: white;}#sk-container-id-2 label.sk-toggleable__label {cursor: pointer;display: block;width: 100%;margin-bottom: 0;padding: 0.3em;box-sizing: border-box;text-align: center;}#sk-container-id-2 label.sk-toggleable__label-arrow:before {content: \"▸\";float: left;margin-right: 0.25em;color: #696969;}#sk-container-id-2 label.sk-toggleable__label-arrow:hover:before {color: black;}#sk-container-id-2 div.sk-estimator:hover label.sk-toggleable__label-arrow:before {color: black;}#sk-container-id-2 div.sk-toggleable__content {max-height: 0;max-width: 0;overflow: hidden;text-align: left;background-color: #f0f8ff;}#sk-container-id-2 div.sk-toggleable__content pre {margin: 0.2em;color: black;border-radius: 0.25em;background-color: #f0f8ff;}#sk-container-id-2 input.sk-toggleable__control:checked~div.sk-toggleable__content {max-height: 200px;max-width: 100%;overflow: auto;}#sk-container-id-2 input.sk-toggleable__control:checked~label.sk-toggleable__label-arrow:before {content: \"▾\";}#sk-container-id-2 div.sk-estimator input.sk-toggleable__control:checked~label.sk-toggleable__label {background-color: #d4ebff;}#sk-container-id-2 div.sk-label input.sk-toggleable__control:checked~label.sk-toggleable__label {background-color: #d4ebff;}#sk-container-id-2 input.sk-hidden--visually {border: 0;clip: rect(1px 1px 1px 1px);clip: rect(1px, 1px, 1px, 1px);height: 1px;margin: -1px;overflow: hidden;padding: 0;position: absolute;width: 1px;}#sk-container-id-2 div.sk-estimator {font-family: monospace;background-color: #f0f8ff;border: 1px dotted black;border-radius: 0.25em;box-sizing: border-box;margin-bottom: 0.5em;}#sk-container-id-2 div.sk-estimator:hover {background-color: #d4ebff;}#sk-container-id-2 div.sk-parallel-item::after {content: \"\";width: 100%;border-bottom: 1px solid gray;flex-grow: 1;}#sk-container-id-2 div.sk-label:hover label.sk-toggleable__label {background-color: #d4ebff;}#sk-container-id-2 div.sk-serial::before {content: \"\";position: absolute;border-left: 1px solid gray;box-sizing: border-box;top: 0;bottom: 0;left: 50%;z-index: 0;}#sk-container-id-2 div.sk-serial {display: flex;flex-direction: column;align-items: center;background-color: white;padding-right: 0.2em;padding-left: 0.2em;position: relative;}#sk-container-id-2 div.sk-item {position: relative;z-index: 1;}#sk-container-id-2 div.sk-parallel {display: flex;align-items: stretch;justify-content: center;background-color: white;position: relative;}#sk-container-id-2 div.sk-item::before, #sk-container-id-2 div.sk-parallel-item::before {content: \"\";position: absolute;border-left: 1px solid gray;box-sizing: border-box;top: 0;bottom: 0;left: 50%;z-index: -1;}#sk-container-id-2 div.sk-parallel-item {display: flex;flex-direction: column;z-index: 1;position: relative;background-color: white;}#sk-container-id-2 div.sk-parallel-item:first-child::after {align-self: flex-end;width: 50%;}#sk-container-id-2 div.sk-parallel-item:last-child::after {align-self: flex-start;width: 50%;}#sk-container-id-2 div.sk-parallel-item:only-child::after {width: 0;}#sk-container-id-2 div.sk-dashed-wrapped {border: 1px dashed gray;margin: 0 0.4em 0.5em 0.4em;box-sizing: border-box;padding-bottom: 0.4em;background-color: white;}#sk-container-id-2 div.sk-label label {font-family: monospace;font-weight: bold;display: inline-block;line-height: 1.2em;}#sk-container-id-2 div.sk-label-container {text-align: center;}#sk-container-id-2 div.sk-container {/* jupyter's `normalize.less` sets `[hidden] { display: none; }` but bootstrap.min.css set `[hidden] { display: none !important; }` so we also need the `!important` here to be able to override the default hidden behavior on the sphinx rendered scikit-learn.org. See: https://github.com/scikit-learn/scikit-learn/issues/21755 */display: inline-block !important;position: relative;}#sk-container-id-2 div.sk-text-repr-fallback {display: none;}</style><div id=\"sk-container-id-2\" class=\"sk-top-container\"><div class=\"sk-text-repr-fallback\"><pre>GridSearchCV(cv=5,\n",
       "             estimator=XGBClassifier(base_score=None, booster=None,\n",
       "                                     callbacks=None, colsample_bylevel=None,\n",
       "                                     colsample_bynode=None,\n",
       "                                     colsample_bytree=None,\n",
       "                                     early_stopping_rounds=None,\n",
       "                                     enable_categorical=False, eval_metric=None,\n",
       "                                     feature_types=None, gamma=None,\n",
       "                                     gpu_id=None, grow_policy=None,\n",
       "                                     importance_type=None,\n",
       "                                     interaction_constraints=None,\n",
       "                                     learning_rate=None, max_bin=None,\n",
       "                                     max_cat_threshold=None,\n",
       "                                     max_cat_to_onehot=None,\n",
       "                                     max_delta_step=None, max_depth=None,\n",
       "                                     max_leaves=None, min_child_weight=None,\n",
       "                                     missing=nan, monotone_constraints=None,\n",
       "                                     n_estimators=100, n_jobs=None, num_class=4,\n",
       "                                     num_parallel_tree=None,\n",
       "                                     objective=&#x27;multi:softmax&#x27;, ...),\n",
       "             n_jobs=-1,\n",
       "             param_grid={&#x27;learning_rate&#x27;: [0.2, 0.5], &#x27;max_depth&#x27;: [7],\n",
       "                         &#x27;n_estimators&#x27;: [300]})</pre><b>In a Jupyter environment, please rerun this cell to show the HTML representation or trust the notebook. <br />On GitHub, the HTML representation is unable to render, please try loading this page with nbviewer.org.</b></div><div class=\"sk-container\" hidden><div class=\"sk-item sk-dashed-wrapped\"><div class=\"sk-label-container\"><div class=\"sk-label sk-toggleable\"><input class=\"sk-toggleable__control sk-hidden--visually\" id=\"sk-estimator-id-4\" type=\"checkbox\" ><label for=\"sk-estimator-id-4\" class=\"sk-toggleable__label sk-toggleable__label-arrow\">GridSearchCV</label><div class=\"sk-toggleable__content\"><pre>GridSearchCV(cv=5,\n",
       "             estimator=XGBClassifier(base_score=None, booster=None,\n",
       "                                     callbacks=None, colsample_bylevel=None,\n",
       "                                     colsample_bynode=None,\n",
       "                                     colsample_bytree=None,\n",
       "                                     early_stopping_rounds=None,\n",
       "                                     enable_categorical=False, eval_metric=None,\n",
       "                                     feature_types=None, gamma=None,\n",
       "                                     gpu_id=None, grow_policy=None,\n",
       "                                     importance_type=None,\n",
       "                                     interaction_constraints=None,\n",
       "                                     learning_rate=None, max_bin=None,\n",
       "                                     max_cat_threshold=None,\n",
       "                                     max_cat_to_onehot=None,\n",
       "                                     max_delta_step=None, max_depth=None,\n",
       "                                     max_leaves=None, min_child_weight=None,\n",
       "                                     missing=nan, monotone_constraints=None,\n",
       "                                     n_estimators=100, n_jobs=None, num_class=4,\n",
       "                                     num_parallel_tree=None,\n",
       "                                     objective=&#x27;multi:softmax&#x27;, ...),\n",
       "             n_jobs=-1,\n",
       "             param_grid={&#x27;learning_rate&#x27;: [0.2, 0.5], &#x27;max_depth&#x27;: [7],\n",
       "                         &#x27;n_estimators&#x27;: [300]})</pre></div></div></div><div class=\"sk-parallel\"><div class=\"sk-parallel-item\"><div class=\"sk-item\"><div class=\"sk-label-container\"><div class=\"sk-label sk-toggleable\"><input class=\"sk-toggleable__control sk-hidden--visually\" id=\"sk-estimator-id-5\" type=\"checkbox\" ><label for=\"sk-estimator-id-5\" class=\"sk-toggleable__label sk-toggleable__label-arrow\">estimator: XGBClassifier</label><div class=\"sk-toggleable__content\"><pre>XGBClassifier(base_score=None, booster=None, callbacks=None,\n",
       "              colsample_bylevel=None, colsample_bynode=None,\n",
       "              colsample_bytree=None, early_stopping_rounds=None,\n",
       "              enable_categorical=False, eval_metric=None, feature_types=None,\n",
       "              gamma=None, gpu_id=None, grow_policy=None, importance_type=None,\n",
       "              interaction_constraints=None, learning_rate=None, max_bin=None,\n",
       "              max_cat_threshold=None, max_cat_to_onehot=None,\n",
       "              max_delta_step=None, max_depth=None, max_leaves=None,\n",
       "              min_child_weight=None, missing=nan, monotone_constraints=None,\n",
       "              n_estimators=100, n_jobs=None, num_class=4,\n",
       "              num_parallel_tree=None, objective=&#x27;multi:softmax&#x27;, ...)</pre></div></div></div><div class=\"sk-serial\"><div class=\"sk-item\"><div class=\"sk-estimator sk-toggleable\"><input class=\"sk-toggleable__control sk-hidden--visually\" id=\"sk-estimator-id-6\" type=\"checkbox\" ><label for=\"sk-estimator-id-6\" class=\"sk-toggleable__label sk-toggleable__label-arrow\">XGBClassifier</label><div class=\"sk-toggleable__content\"><pre>XGBClassifier(base_score=None, booster=None, callbacks=None,\n",
       "              colsample_bylevel=None, colsample_bynode=None,\n",
       "              colsample_bytree=None, early_stopping_rounds=None,\n",
       "              enable_categorical=False, eval_metric=None, feature_types=None,\n",
       "              gamma=None, gpu_id=None, grow_policy=None, importance_type=None,\n",
       "              interaction_constraints=None, learning_rate=None, max_bin=None,\n",
       "              max_cat_threshold=None, max_cat_to_onehot=None,\n",
       "              max_delta_step=None, max_depth=None, max_leaves=None,\n",
       "              min_child_weight=None, missing=nan, monotone_constraints=None,\n",
       "              n_estimators=100, n_jobs=None, num_class=4,\n",
       "              num_parallel_tree=None, objective=&#x27;multi:softmax&#x27;, ...)</pre></div></div></div></div></div></div></div></div></div></div>"
      ],
      "text/plain": [
       "GridSearchCV(cv=5,\n",
       "             estimator=XGBClassifier(base_score=None, booster=None,\n",
       "                                     callbacks=None, colsample_bylevel=None,\n",
       "                                     colsample_bynode=None,\n",
       "                                     colsample_bytree=None,\n",
       "                                     early_stopping_rounds=None,\n",
       "                                     enable_categorical=False, eval_metric=None,\n",
       "                                     feature_types=None, gamma=None,\n",
       "                                     gpu_id=None, grow_policy=None,\n",
       "                                     importance_type=None,\n",
       "                                     interaction_constraints=None,\n",
       "                                     learning_rate=None, max_bin=None,\n",
       "                                     max_cat_threshold=None,\n",
       "                                     max_cat_to_onehot=None,\n",
       "                                     max_delta_step=None, max_depth=None,\n",
       "                                     max_leaves=None, min_child_weight=None,\n",
       "                                     missing=nan, monotone_constraints=None,\n",
       "                                     n_estimators=100, n_jobs=None, num_class=4,\n",
       "                                     num_parallel_tree=None,\n",
       "                                     objective='multi:softmax', ...),\n",
       "             n_jobs=-1,\n",
       "             param_grid={'learning_rate': [0.2, 0.5], 'max_depth': [7],\n",
       "                         'n_estimators': [300]})"
      ]
     },
     "execution_count": 60,
     "metadata": {},
     "output_type": "execute_result"
    }
   ],
   "source": [
    "# Split the data into training and validation sets\n",
    "X_train, X_val, y_train, y_val = train_test_split(X_train, y_train, test_size=0.2, random_state=42)\n",
    "\n",
    "# Define the parameter grid for grid search cross-validation\n",
    "param_grid = {\n",
    "    'max_depth': [7],\n",
    "    'n_estimators': [300],\n",
    "    'learning_rate': [ 0.2, 0.5],\n",
    "}\n",
    "\n",
    "# Train an XGBoost model with grid search cross-validation\n",
    "xgb_model = xgb.XGBClassifier(objective='multi:softmax', num_class=4)\n",
    "grid_search = GridSearchCV(xgb_model, param_grid=param_grid, cv=5, n_jobs=-1, verbose=0)\n",
    "grid_search.fit(X_train, y_train)"
   ]
  },
  {
   "cell_type": "code",
   "execution_count": 61,
   "id": "08fc8e5e",
   "metadata": {},
   "outputs": [
    {
     "name": "stdout",
     "output_type": "stream",
     "text": [
      "Best hyperparameters: {'learning_rate': 0.2, 'max_depth': 7, 'n_estimators': 300}\n",
      "Accuracy: 0.94\n"
     ]
    }
   ],
   "source": [
    "# Print the best hyperparameters found by grid search\n",
    "print(\"Best hyperparameters:\", grid_search.best_params_)\n",
    "\n",
    "# Make predictions on the validation data using the best model\n",
    "y_pred = grid_search.predict(X_val)\n",
    "\n",
    "# Decode the predicted target variable\n",
    "y_pred = le.inverse_transform(y_pred)\n",
    "\n",
    "# Evaluate the performance of the model\n",
    "accuracy = np.mean(y_pred == le.inverse_transform(y_val))\n",
    "print(f\"Accuracy: {accuracy:.2f}\")"
   ]
  },
  {
   "cell_type": "markdown",
   "id": "b937e039",
   "metadata": {},
   "source": [
    "## Run Predictions on the Test Data"
   ]
  },
  {
   "cell_type": "code",
   "execution_count": 62,
   "id": "b48837da",
   "metadata": {},
   "outputs": [
    {
     "data": {
      "text/html": [
       "<div>\n",
       "<style scoped>\n",
       "    .dataframe tbody tr th:only-of-type {\n",
       "        vertical-align: middle;\n",
       "    }\n",
       "\n",
       "    .dataframe tbody tr th {\n",
       "        vertical-align: top;\n",
       "    }\n",
       "\n",
       "    .dataframe thead th {\n",
       "        text-align: right;\n",
       "    }\n",
       "</style>\n",
       "<table border=\"1\" class=\"dataframe\">\n",
       "  <thead>\n",
       "    <tr style=\"text-align: right;\">\n",
       "      <th></th>\n",
       "      <th>category</th>\n",
       "      <th>product_description</th>\n",
       "      <th>clean_desc</th>\n",
       "    </tr>\n",
       "  </thead>\n",
       "  <tbody>\n",
       "    <tr>\n",
       "      <th>39506</th>\n",
       "      <td>Clothing &amp; Accessories</td>\n",
       "      <td>Iuhan Nowborn 2Pcs Infant Baby Girls Fresh Sty...</td>\n",
       "      <td>iuhan nowborn pcs infant baby girls fresh styl...</td>\n",
       "    </tr>\n",
       "    <tr>\n",
       "      <th>45224</th>\n",
       "      <td>Electronics</td>\n",
       "      <td>AmazonBasics Apple Certified Lightning to USB ...</td>\n",
       "      <td>amazonbasics apple certified lightning to usb ...</td>\n",
       "    </tr>\n",
       "    <tr>\n",
       "      <th>33965</th>\n",
       "      <td>Clothing &amp; Accessories</td>\n",
       "      <td>Yovi Empire Girl's Tapeta Silk Semi-Stitched G...</td>\n",
       "      <td>yovi empire girl tapeta silk semi stitched gow...</td>\n",
       "    </tr>\n",
       "    <tr>\n",
       "      <th>31958</th>\n",
       "      <td>Clothing &amp; Accessories</td>\n",
       "      <td>MSGH Kids Foldable Sunglasses, Multicolour(Pac...</td>\n",
       "      <td>msgh kids foldable sunglasses multicolour pack...</td>\n",
       "    </tr>\n",
       "    <tr>\n",
       "      <th>3835</th>\n",
       "      <td>Household</td>\n",
       "      <td>All Time Plastic Waste Paper Basket, Granite B...</td>\n",
       "      <td>all time plastic waste paper basket granite bi...</td>\n",
       "    </tr>\n",
       "  </tbody>\n",
       "</table>\n",
       "</div>"
      ],
      "text/plain": [
       "                     category  \\\n",
       "39506  Clothing & Accessories   \n",
       "45224             Electronics   \n",
       "33965  Clothing & Accessories   \n",
       "31958  Clothing & Accessories   \n",
       "3835                Household   \n",
       "\n",
       "                                     product_description  \\\n",
       "39506  Iuhan Nowborn 2Pcs Infant Baby Girls Fresh Sty...   \n",
       "45224  AmazonBasics Apple Certified Lightning to USB ...   \n",
       "33965  Yovi Empire Girl's Tapeta Silk Semi-Stitched G...   \n",
       "31958  MSGH Kids Foldable Sunglasses, Multicolour(Pac...   \n",
       "3835   All Time Plastic Waste Paper Basket, Granite B...   \n",
       "\n",
       "                                              clean_desc  \n",
       "39506  iuhan nowborn pcs infant baby girls fresh styl...  \n",
       "45224  amazonbasics apple certified lightning to usb ...  \n",
       "33965  yovi empire girl tapeta silk semi stitched gow...  \n",
       "31958  msgh kids foldable sunglasses multicolour pack...  \n",
       "3835   all time plastic waste paper basket granite bi...  "
      ]
     },
     "execution_count": 62,
     "metadata": {},
     "output_type": "execute_result"
    }
   ],
   "source": [
    "test_set.head()"
   ]
  },
  {
   "cell_type": "code",
   "execution_count": 63,
   "id": "08b71daa",
   "metadata": {},
   "outputs": [
    {
     "name": "stdout",
     "output_type": "stream",
     "text": [
      "Accuracy: 0.91\n"
     ]
    }
   ],
   "source": [
    "import pickle\n",
    "# Save the trained model to a file\n",
    "filename = 'xgb_model.sav'\n",
    "pickle.dump(grid_search, open(filename, 'wb'))\n",
    "\n",
    "\n",
    "# Load the model from file\n",
    "loaded_model = pickle.load(open(filename, 'rb'))\n",
    "\n",
    "# Define function to make predictions on new data\n",
    "def predict_gl_code(text):\n",
    "    # Preprocess the text data\n",
    "    text = clean_text(text)\n",
    "    \n",
    "    # Generate embeddings for the text data\n",
    "    embeddings = model.encode([text], show_progress_bar=False)\n",
    "    X = np.array(embeddings)\n",
    "    \n",
    "    # Make predictions using the loaded model\n",
    "    y_pred = loaded_model.predict(X)\n",
    "    gl_code = le.inverse_transform(y_pred)[0]\n",
    "    return gl_code\n",
    "\n",
    "# Add a new column for predictions to the test dataframe\n",
    "test_set['preds'] = test_set['clean_desc'].apply(predict_gl_code)\n",
    "\n",
    "# Compute the accuracy of the model on the test data\n",
    "accuracy = np.mean(test_set['preds'] == test_set['category'])\n",
    "print(f\"Accuracy: {accuracy:.2f}\")"
   ]
  },
  {
   "cell_type": "code",
   "execution_count": 64,
   "id": "927d8d04",
   "metadata": {},
   "outputs": [
    {
     "data": {
      "text/html": [
       "<div>\n",
       "<style scoped>\n",
       "    .dataframe tbody tr th:only-of-type {\n",
       "        vertical-align: middle;\n",
       "    }\n",
       "\n",
       "    .dataframe tbody tr th {\n",
       "        vertical-align: top;\n",
       "    }\n",
       "\n",
       "    .dataframe thead th {\n",
       "        text-align: right;\n",
       "    }\n",
       "</style>\n",
       "<table border=\"1\" class=\"dataframe\">\n",
       "  <thead>\n",
       "    <tr style=\"text-align: right;\">\n",
       "      <th></th>\n",
       "      <th>category</th>\n",
       "      <th>product_description</th>\n",
       "      <th>clean_desc</th>\n",
       "      <th>preds</th>\n",
       "    </tr>\n",
       "  </thead>\n",
       "  <tbody>\n",
       "    <tr>\n",
       "      <th>39506</th>\n",
       "      <td>Clothing &amp; Accessories</td>\n",
       "      <td>Iuhan Nowborn 2Pcs Infant Baby Girls Fresh Sty...</td>\n",
       "      <td>iuhan nowborn pcs infant baby girls fresh styl...</td>\n",
       "      <td>Clothing &amp; Accessories</td>\n",
       "    </tr>\n",
       "    <tr>\n",
       "      <th>45224</th>\n",
       "      <td>Electronics</td>\n",
       "      <td>AmazonBasics Apple Certified Lightning to USB ...</td>\n",
       "      <td>amazonbasics apple certified lightning to usb ...</td>\n",
       "      <td>Electronics</td>\n",
       "    </tr>\n",
       "    <tr>\n",
       "      <th>33965</th>\n",
       "      <td>Clothing &amp; Accessories</td>\n",
       "      <td>Yovi Empire Girl's Tapeta Silk Semi-Stitched G...</td>\n",
       "      <td>yovi empire girl tapeta silk semi stitched gow...</td>\n",
       "      <td>Clothing &amp; Accessories</td>\n",
       "    </tr>\n",
       "    <tr>\n",
       "      <th>31958</th>\n",
       "      <td>Clothing &amp; Accessories</td>\n",
       "      <td>MSGH Kids Foldable Sunglasses, Multicolour(Pac...</td>\n",
       "      <td>msgh kids foldable sunglasses multicolour pack...</td>\n",
       "      <td>Clothing &amp; Accessories</td>\n",
       "    </tr>\n",
       "    <tr>\n",
       "      <th>3835</th>\n",
       "      <td>Household</td>\n",
       "      <td>All Time Plastic Waste Paper Basket, Granite B...</td>\n",
       "      <td>all time plastic waste paper basket granite bi...</td>\n",
       "      <td>Household</td>\n",
       "    </tr>\n",
       "  </tbody>\n",
       "</table>\n",
       "</div>"
      ],
      "text/plain": [
       "                     category  \\\n",
       "39506  Clothing & Accessories   \n",
       "45224             Electronics   \n",
       "33965  Clothing & Accessories   \n",
       "31958  Clothing & Accessories   \n",
       "3835                Household   \n",
       "\n",
       "                                     product_description  \\\n",
       "39506  Iuhan Nowborn 2Pcs Infant Baby Girls Fresh Sty...   \n",
       "45224  AmazonBasics Apple Certified Lightning to USB ...   \n",
       "33965  Yovi Empire Girl's Tapeta Silk Semi-Stitched G...   \n",
       "31958  MSGH Kids Foldable Sunglasses, Multicolour(Pac...   \n",
       "3835   All Time Plastic Waste Paper Basket, Granite B...   \n",
       "\n",
       "                                              clean_desc  \\\n",
       "39506  iuhan nowborn pcs infant baby girls fresh styl...   \n",
       "45224  amazonbasics apple certified lightning to usb ...   \n",
       "33965  yovi empire girl tapeta silk semi stitched gow...   \n",
       "31958  msgh kids foldable sunglasses multicolour pack...   \n",
       "3835   all time plastic waste paper basket granite bi...   \n",
       "\n",
       "                        preds  \n",
       "39506  Clothing & Accessories  \n",
       "45224             Electronics  \n",
       "33965  Clothing & Accessories  \n",
       "31958  Clothing & Accessories  \n",
       "3835                Household  "
      ]
     },
     "execution_count": 64,
     "metadata": {},
     "output_type": "execute_result"
    }
   ],
   "source": [
    "test_set.head(5)"
   ]
  },
  {
   "cell_type": "code",
   "execution_count": 65,
   "id": "9a65b1e8",
   "metadata": {},
   "outputs": [
    {
     "data": {
      "text/plain": [
       "(174, 4)"
      ]
     },
     "execution_count": 65,
     "metadata": {},
     "output_type": "execute_result"
    }
   ],
   "source": [
    "# How many did we get wrong\n",
    "test_set[test_set['preds'] != test_set['category']].shape"
   ]
  },
  {
   "cell_type": "code",
   "execution_count": 66,
   "id": "b9893a1f",
   "metadata": {},
   "outputs": [
    {
     "data": {
      "text/html": [
       "<div>\n",
       "<style scoped>\n",
       "    .dataframe tbody tr th:only-of-type {\n",
       "        vertical-align: middle;\n",
       "    }\n",
       "\n",
       "    .dataframe tbody tr th {\n",
       "        vertical-align: top;\n",
       "    }\n",
       "\n",
       "    .dataframe thead th {\n",
       "        text-align: right;\n",
       "    }\n",
       "</style>\n",
       "<table border=\"1\" class=\"dataframe\">\n",
       "  <thead>\n",
       "    <tr style=\"text-align: right;\">\n",
       "      <th></th>\n",
       "      <th>category</th>\n",
       "      <th>product_description</th>\n",
       "      <th>clean_desc</th>\n",
       "      <th>preds</th>\n",
       "    </tr>\n",
       "  </thead>\n",
       "  <tbody>\n",
       "    <tr>\n",
       "      <th>23745</th>\n",
       "      <td>Books</td>\n",
       "      <td>Lifestyle-You® Adjustable Shoe Slots Organizer...</td>\n",
       "      <td>lifestyle you adjustable shoe slots organizer ...</td>\n",
       "      <td>Household</td>\n",
       "    </tr>\n",
       "    <tr>\n",
       "      <th>48643</th>\n",
       "      <td>Electronics</td>\n",
       "      <td>Xodi Eagle/National Roti maker Eagle Made Life...</td>\n",
       "      <td>xodi eagle national roti maker eagle made life...</td>\n",
       "      <td>Household</td>\n",
       "    </tr>\n",
       "    <tr>\n",
       "      <th>25677</th>\n",
       "      <td>Books</td>\n",
       "      <td>Generic 1pc 3 Finger Pool Shooters Billiard Gl...</td>\n",
       "      <td>generic pc finger pool shooters billiard glove...</td>\n",
       "      <td>Electronics</td>\n",
       "    </tr>\n",
       "    <tr>\n",
       "      <th>25102</th>\n",
       "      <td>Books</td>\n",
       "      <td>Rocksport CLIROCL003 Climbing Holds, Pack of 5...</td>\n",
       "      <td>rocksport clirocl climbing holds pack of multi...</td>\n",
       "      <td>Household</td>\n",
       "    </tr>\n",
       "    <tr>\n",
       "      <th>25548</th>\n",
       "      <td>Books</td>\n",
       "      <td>Ariel Matic Top Load Detergent Washing Powder ...</td>\n",
       "      <td>ariel matic top load detergent washing powder ...</td>\n",
       "      <td>Household</td>\n",
       "    </tr>\n",
       "  </tbody>\n",
       "</table>\n",
       "</div>"
      ],
      "text/plain": [
       "          category                                product_description  \\\n",
       "23745        Books  Lifestyle-You® Adjustable Shoe Slots Organizer...   \n",
       "48643  Electronics  Xodi Eagle/National Roti maker Eagle Made Life...   \n",
       "25677        Books  Generic 1pc 3 Finger Pool Shooters Billiard Gl...   \n",
       "25102        Books  Rocksport CLIROCL003 Climbing Holds, Pack of 5...   \n",
       "25548        Books  Ariel Matic Top Load Detergent Washing Powder ...   \n",
       "\n",
       "                                              clean_desc        preds  \n",
       "23745  lifestyle you adjustable shoe slots organizer ...    Household  \n",
       "48643  xodi eagle national roti maker eagle made life...    Household  \n",
       "25677  generic pc finger pool shooters billiard glove...  Electronics  \n",
       "25102  rocksport clirocl climbing holds pack of multi...    Household  \n",
       "25548  ariel matic top load detergent washing powder ...    Household  "
      ]
     },
     "execution_count": 66,
     "metadata": {},
     "output_type": "execute_result"
    }
   ],
   "source": [
    "# Let's take a look\n",
    "test_set[test_set['preds'] != test_set['category']].head(5)"
   ]
  },
  {
   "cell_type": "markdown",
   "id": "41dd98e1",
   "metadata": {},
   "source": [
    "### Libraries Required"
   ]
  },
  {
   "cell_type": "code",
   "execution_count": 69,
   "id": "687156dd",
   "metadata": {},
   "outputs": [],
   "source": [
    "# !pip install jupyter \n",
    "# !pip install pandas  \n",
    "# !pip install scikit-learn\n",
    "# !pip install torch\n",
    "# !pip install sentence-transformers\n",
    "# !pip install transformers\n",
    "# !pip install xgboost"
   ]
  },
  {
   "cell_type": "code",
   "execution_count": null,
   "id": "18d0a63f",
   "metadata": {},
   "outputs": [],
   "source": []
  }
 ],
 "metadata": {
  "kernelspec": {
   "display_name": "Python 3 (ipykernel)",
   "language": "python",
   "name": "python3"
  },
  "language_info": {
   "codemirror_mode": {
    "name": "ipython",
    "version": 3
   },
   "file_extension": ".py",
   "mimetype": "text/x-python",
   "name": "python",
   "nbconvert_exporter": "python",
   "pygments_lexer": "ipython3",
   "version": "3.11.2"
  }
 },
 "nbformat": 4,
 "nbformat_minor": 5
}
