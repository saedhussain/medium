{
 "cells": [
  {
   "attachments": {},
   "cell_type": "markdown",
   "id": "beed6f52",
   "metadata": {},
   "source": [
    "## Zero Shot Classifcation for Invoice Items using Pre-Trained Transformers"
   ]
  },
  {
   "cell_type": "markdown",
   "id": "63bf97f6",
   "metadata": {},
   "source": [
    "https://huggingface.co/tasks/zero-shot-classification"
   ]
  },
  {
   "cell_type": "code",
   "execution_count": 1,
   "id": "cf5a40fe",
   "metadata": {},
   "outputs": [],
   "source": [
    "from transformers import pipeline\n",
    "\n",
    "categories = [\"groceries\", \"utility\", \"electronics\", \"subscriptions\"]\n",
    "\n",
    "pipe = pipeline(model=\"facebook/bart-large-mnli\")"
   ]
  },
  {
   "cell_type": "code",
   "execution_count": 2,
   "id": "ac60c7e7",
   "metadata": {},
   "outputs": [
    {
     "data": {
      "text/plain": [
       "{'sequence': 'Tesco Semi Skimmed Milk 1.13L/2 Pints ...... £1.30',\n",
       " 'labels': ['groceries', 'utility', 'subscriptions', 'electronics'],\n",
       " 'scores': [0.8075780868530273,\n",
       "  0.11150923371315002,\n",
       "  0.06636060029268265,\n",
       "  0.014551995322108269]}"
      ]
     },
     "execution_count": 2,
     "metadata": {},
     "output_type": "execute_result"
    }
   ],
   "source": [
    "pipe(\"Tesco Semi Skimmed Milk 1.13L/2 Pints ...... £1.30\",\n",
    "    candidate_labels=categories,\n",
    ")"
   ]
  },
  {
   "cell_type": "code",
   "execution_count": 3,
   "id": "6e4c68f9",
   "metadata": {},
   "outputs": [
    {
     "data": {
      "text/plain": [
       "{'sequence': 'Tesco Semi Skimmed Milk Pints',\n",
       " 'labels': ['groceries', 'utility', 'subscriptions', 'electronics'],\n",
       " 'scores': [0.9199661612510681,\n",
       "  0.05123506113886833,\n",
       "  0.022794339805841446,\n",
       "  0.0060044946148991585]}"
      ]
     },
     "execution_count": 3,
     "metadata": {},
     "output_type": "execute_result"
    }
   ],
   "source": [
    "pipe(\"Tesco Semi Skimmed Milk Pints\",\n",
    "    candidate_labels=categories,\n",
    ")"
   ]
  },
  {
   "cell_type": "code",
   "execution_count": 4,
   "id": "ca5e0071",
   "metadata": {},
   "outputs": [
    {
     "data": {
      "text/plain": [
       "{'sequence': 'Juice Apple Lightning 3m Charging Cable Aqua',\n",
       " 'labels': ['electronics', 'utility', 'subscriptions', 'groceries'],\n",
       " 'scores': [0.829928994178772,\n",
       "  0.14379823207855225,\n",
       "  0.0156746543943882,\n",
       "  0.010598073713481426]}"
      ]
     },
     "execution_count": 4,
     "metadata": {},
     "output_type": "execute_result"
    }
   ],
   "source": [
    "pipe(\"Juice Apple Lightning 3m Charging Cable Aqua\",\n",
    "    candidate_labels=categories,\n",
    ")"
   ]
  },
  {
   "cell_type": "code",
   "execution_count": 5,
   "id": "8ceac668",
   "metadata": {},
   "outputs": [
    {
     "data": {
      "text/plain": [
       "{'sequence': 'water and electricity bill 23/01/22 $150.00',\n",
       " 'labels': ['utility bill', 'electronics', 'grocery', 'shopping'],\n",
       " 'scores': [0.9954800009727478,\n",
       "  0.0018709523137658834,\n",
       "  0.0018573679262772202,\n",
       "  0.000791704747825861]}"
      ]
     },
     "execution_count": 5,
     "metadata": {},
     "output_type": "execute_result"
    }
   ],
   "source": [
    "pipe(\"water and electricity bill 23/01/22 $150.00\",\n",
    "    candidate_labels=[\"shopping\", \"grocery\", \"electronics\",\"utility bill\" ],\n",
    ")"
   ]
  },
  {
   "cell_type": "code",
   "execution_count": 6,
   "id": "4e6df023",
   "metadata": {},
   "outputs": [
    {
     "data": {
      "text/plain": [
       "{'sequence': 'pens and erasers 23/01/22 $150.00',\n",
       " 'labels': ['office supplies',\n",
       "  'utility bill',\n",
       "  'shopping',\n",
       "  'electronics',\n",
       "  'grocery'],\n",
       " 'scores': [0.9491721391677856,\n",
       "  0.017868321388959885,\n",
       "  0.012903754599392414,\n",
       "  0.012569136917591095,\n",
       "  0.007486657705157995]}"
      ]
     },
     "execution_count": 6,
     "metadata": {},
     "output_type": "execute_result"
    }
   ],
   "source": [
    "pipe(\"pens and erasers 23/01/22 $150.00\",\n",
    "    candidate_labels=[\"shopping\", \"grocery\", \"electronics\",\"utility bill\", \"office supplies\"],\n",
    ")"
   ]
  },
  {
   "cell_type": "code",
   "execution_count": null,
   "id": "0a734fd3",
   "metadata": {},
   "outputs": [],
   "source": []
  }
 ],
 "metadata": {
  "kernelspec": {
   "display_name": "Python 3 (ipykernel)",
   "language": "python",
   "name": "python3"
  },
  "language_info": {
   "codemirror_mode": {
    "name": "ipython",
    "version": 3
   },
   "file_extension": ".py",
   "mimetype": "text/x-python",
   "name": "python",
   "nbconvert_exporter": "python",
   "pygments_lexer": "ipython3",
   "version": "3.11.2"
  }
 },
 "nbformat": 4,
 "nbformat_minor": 5
}
